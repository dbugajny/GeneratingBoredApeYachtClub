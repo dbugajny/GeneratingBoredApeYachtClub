{
 "cells": [
  {
   "cell_type": "code",
   "execution_count": null,
   "metadata": {
    "collapsed": true
   },
   "outputs": [],
   "source": [
    "import tensorflow as tf\n",
    "from models import decoder, encoder, vae\n",
    "import matplotlib.pyplot as plt\n",
    "import pandas as pd\n",
    "from constants import *\n",
    "from hyperparameters import *\n",
    "import pathlib\n",
    "\n",
    "from utils import data_loading, experiments"
   ]
  },
  {
   "cell_type": "code",
   "execution_count": null,
   "outputs": [],
   "source": [
    "apes_info = pd.read_csv(APES_INFO_FILEPATH)\n",
    "all_images_ids, train_ids, validation_ids, test_ids = data_loading.get_image_ids(apes_info, pathlib.Path(DATA_FILEPATH))"
   ],
   "metadata": {
    "collapsed": false
   }
  },
  {
   "cell_type": "code",
   "execution_count": null,
   "outputs": [],
   "source": [
    "dataset = data_loading.load_full_dataset(DATA_FILEPATH, IMAGE_SIZE, all_images_ids)\n",
    "\n",
    "train_dataset = data_loading.load_specific_dataset(dataset, train_ids, BATCH_SIZE)\n",
    "test_dataset = data_loading.load_specific_dataset(dataset, test_ids, BATCH_SIZE)"
   ],
   "metadata": {
    "collapsed": false
   }
  },
  {
   "cell_type": "code",
   "execution_count": null,
   "outputs": [],
   "source": [
    "encoder_model = encoder.build_encoder(**ENCODER_MODEL_HYPERPARAMETERS)\n",
    "decoder_model = decoder.build_decoder(**DECODER_MODEL_HYPERPARAMETERS)\n",
    "\n",
    "vae_model = vae.VAE(encoder_model, decoder_model, RECONSTRUCTION_LOSS_WEIGHT, KL_LOSS_WEIGHT)\n",
    "vae_model.load_weights(MODEL_VAE_FILEPATH)"
   ],
   "metadata": {
    "collapsed": false
   }
  },
  {
   "cell_type": "code",
   "execution_count": null,
   "outputs": [],
   "source": [
    "(\n",
    "    sample_bored_mouth,\n",
    "    sample_grin_mouth,\n",
    "    shifted_images_bored_mouth,\n",
    "    shifted_images_grin_mouth,\n",
    ") = experiments.perform_image_shifting(\n",
    "    encoder_model,\n",
    "    decoder_model,\n",
    "    dataset,\n",
    "    apes_info,\n",
    "    \"Mouth\",\n",
    "    \"Bored\",\n",
    "    \"Grin\",\n",
    "    5,\n",
    "    BATCH_SIZE,\n",
    ")"
   ],
   "metadata": {
    "collapsed": false
   }
  },
  {
   "cell_type": "code",
   "execution_count": null,
   "outputs": [],
   "source": [
    "plt.figure(figsize=(15, 5))\n",
    "plt.subplot(2, 7, 1)\n",
    "plt.imshow(sample_grin_mouth)\n",
    "plt.title(\"Original image\")\n",
    "plt.xticks([])\n",
    "plt.yticks([])\n",
    "\n",
    "plt.subplot(2, 7, 8)\n",
    "plt.imshow(sample_bored_mouth)\n",
    "plt.title(\"Original image\")\n",
    "plt.xticks([])\n",
    "plt.yticks([])\n",
    "\n",
    "for i in range(6):\n",
    "    plt.subplot(2, 7, i + 2)\n",
    "    plt.imshow(shifted_images_grin_mouth[i])\n",
    "    plt.title(f\"Shifted {i/5 * 100:.0f}%\")\n",
    "    plt.xticks([])\n",
    "    plt.yticks([])\n",
    "\n",
    "    plt.subplot(2, 7, i + 9)\n",
    "    plt.imshow(shifted_images_bored_mouth[i])\n",
    "    plt.title(f\"Shifted {i/5 * 100:.0f}%\")\n",
    "    plt.xticks([])\n",
    "    plt.yticks([])\n",
    "plt.show()"
   ],
   "metadata": {
    "collapsed": false,
    "pycharm": {
     "is_executing": true
    }
   }
  },
  {
   "cell_type": "code",
   "execution_count": null,
   "outputs": [],
   "source": [
    "(\n",
    "    sample_brown_fur,\n",
    "    sample_cream_fur,\n",
    "    shifted_images_brown_fur,\n",
    "    shifted_images_cream_fur,\n",
    ") = experiments.perform_image_shifting(\n",
    "    encoder_model, decoder_model, dataset, apes_info, \"Fur\", \"Brown\", \"Cream\", 5, BATCH_SIZE\n",
    ")"
   ],
   "metadata": {
    "collapsed": false
   }
  },
  {
   "cell_type": "code",
   "execution_count": null,
   "outputs": [],
   "source": [
    "plt.figure(figsize=(15, 5))\n",
    "plt.subplot(2, 7, 1)\n",
    "plt.imshow(sample_brown_fur)\n",
    "plt.title(\"Original image\")\n",
    "plt.xticks([])\n",
    "plt.yticks([])\n",
    "\n",
    "plt.subplot(2, 7, 8)\n",
    "plt.imshow(sample_cream_fur)\n",
    "plt.title(\"Original image\")\n",
    "plt.xticks([])\n",
    "plt.yticks([])\n",
    "\n",
    "for i in range(6):\n",
    "    plt.subplot(2, 7, i + 2)\n",
    "    plt.imshow(shifted_images_brown_fur[i])\n",
    "    plt.title(f\"Shifted {i/5 * 100:.0f}%\")\n",
    "    plt.xticks([])\n",
    "    plt.yticks([])\n",
    "\n",
    "    plt.subplot(2, 7, i + 9)\n",
    "    plt.imshow(shifted_images_cream_fur[i])\n",
    "    plt.title(f\"Shifted {i/5 * 100:.0f}%\")\n",
    "    plt.xticks([])\n",
    "    plt.yticks([])\n",
    "plt.show()"
   ],
   "metadata": {
    "collapsed": false
   }
  },
  {
   "cell_type": "code",
   "execution_count": null,
   "outputs": [],
   "source": [
    "(\n",
    "    sample_blue_background,\n",
    "    sample_orange_background,\n",
    "    shifted_images_blue_background,\n",
    "    shifted_images_orange_background,\n",
    ") = experiments.perform_image_shifting(\n",
    "    encoder_model, decoder_model, dataset, apes_info, \"Background\", \"Blue\", \"Orange\", 5, BATCH_SIZE\n",
    ")"
   ],
   "metadata": {
    "collapsed": false
   }
  },
  {
   "cell_type": "code",
   "execution_count": null,
   "outputs": [],
   "source": [
    "plt.figure(figsize=(15, 5))\n",
    "plt.subplot(2, 7, 1)\n",
    "plt.imshow(sample_blue_background)\n",
    "plt.title(\"Original image\")\n",
    "plt.xticks([])\n",
    "plt.yticks([])\n",
    "\n",
    "plt.subplot(2, 7, 8)\n",
    "plt.imshow(sample_orange_background)\n",
    "plt.title(\"Original image\")\n",
    "plt.xticks([])\n",
    "plt.yticks([])\n",
    "\n",
    "for i in range(6):\n",
    "    plt.subplot(2, 7, i + 2)\n",
    "    plt.imshow(shifted_images_blue_background[i])\n",
    "    plt.title(f\"Shifted {i/5 * 100:.0f}%\")\n",
    "    plt.xticks([])\n",
    "    plt.yticks([])\n",
    "\n",
    "    plt.subplot(2, 7, i + 9)\n",
    "    plt.imshow(shifted_images_orange_background[i])\n",
    "    plt.title(f\"Shifted {i/5 * 100:.0f}%\")\n",
    "    plt.xticks([])\n",
    "    plt.yticks([])\n",
    "plt.show()"
   ],
   "metadata": {
    "collapsed": false,
    "pycharm": {
     "is_executing": true
    }
   }
  },
  {
   "cell_type": "code",
   "execution_count": null,
   "outputs": [],
   "source": [],
   "metadata": {
    "collapsed": false
   }
  }
 ],
 "metadata": {
  "kernelspec": {
   "display_name": "Python 3",
   "language": "python",
   "name": "python3"
  },
  "language_info": {
   "codemirror_mode": {
    "name": "ipython",
    "version": 2
   },
   "file_extension": ".py",
   "mimetype": "text/x-python",
   "name": "python",
   "nbconvert_exporter": "python",
   "pygments_lexer": "ipython2",
   "version": "2.7.6"
  }
 },
 "nbformat": 4,
 "nbformat_minor": 0
}
