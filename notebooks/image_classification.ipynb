{
 "cells": [
  {
   "cell_type": "code",
   "execution_count": null,
   "outputs": [],
   "source": [
    "import tensorflow as tf\n",
    "from models import decoder, encoder, vae\n",
    "import matplotlib.pyplot as plt\n",
    "import numpy as np\n",
    "import pandas as pd\n",
    "import pathlib\n",
    "from constants import *"
   ],
   "metadata": {
    "collapsed": false
   }
  },
  {
   "cell_type": "code",
   "execution_count": 185,
   "outputs": [],
   "source": [
    "apes_info = pd.read_csv(APES_INFO_FILEPATH)\n",
    "train_ids = apes_info.loc[apes_info[\"dataset\"] == \"train\", \"image\"].to_list()\n",
    "validation_ids = apes_info.loc[apes_info[\"dataset\"] == \"validation\", \"image\"].to_list()\n",
    "test_ids = apes_info.loc[apes_info[\"dataset\"] == \"test\", \"image\"].to_list()\n",
    "images_ids = sorted([item.stem for item in pathlib.Path(DATA_FILEPATH).iterdir() if item.suffix == \".png\"])"
   ],
   "metadata": {
    "collapsed": false
   }
  },
  {
   "cell_type": "code",
   "execution_count": 186,
   "outputs": [
    {
     "name": "stdout",
     "output_type": "stream",
     "text": [
      "Found 10000 files belonging to 10000 classes.\n"
     ]
    }
   ],
   "source": [
    "dataset = (\n",
    "    tf.keras.utils.image_dataset_from_directory(\n",
    "        directory=DATA_FILEPATH,\n",
    "        batch_size=1,\n",
    "        image_size=IMAGE_SIZE,\n",
    "        shuffle=False,\n",
    "        labels=images_ids,\n",
    "    )\n",
    "    .unbatch()\n",
    "    .map(lambda x, y: (x / 255, y))\n",
    ")\n",
    "\n",
    "\n",
    "@tf.autograph.experimental.do_not_convert\n",
    "def select_x(x, _):\n",
    "    return x"
   ],
   "metadata": {
    "collapsed": false
   }
  },
  {
   "cell_type": "code",
   "execution_count": 187,
   "outputs": [],
   "source": [
    "decoder_model = decoder.build_decoder(LATENT_DIM)\n",
    "encoder_model = encoder.build_encoder(LATENT_DIM)\n",
    "\n",
    "vae_model = vae.VAE(encoder_model, decoder_model, 100, 1)\n",
    "vae_model.load_weights(\"../data/models/vae/\")\n",
    "\n",
    "for i in range(len(vae_model.layers)):\n",
    "    vae_model.layers[i].trainable = False"
   ],
   "metadata": {
    "collapsed": false
   }
  },
  {
   "cell_type": "code",
   "execution_count": 238,
   "outputs": [],
   "source": [
    "bck = pd.concat([pd.get_dummies(apes_info[\"Background\"]), apes_info[[\"dataset\"]]], axis=1)\n",
    "bck_train = bck[bck[\"dataset\"] == \"train\"].drop(columns=\"dataset\")\n",
    "bck_val = bck[bck[\"dataset\"] == \"validation\"].drop(columns=\"dataset\")\n",
    "\n",
    "mth = pd.concat([pd.get_dummies(apes_info[\"Mouth\"]), apes_info[[\"dataset\"]]], axis=1)\n",
    "mth_train = mth[mth[\"dataset\"] == \"train\"].drop(columns=\"dataset\")\n",
    "mth_val = mth[mth[\"dataset\"] == \"validation\"].drop(columns=\"dataset\")"
   ],
   "metadata": {
    "collapsed": false
   }
  },
  {
   "cell_type": "code",
   "execution_count": 239,
   "outputs": [],
   "source": [
    "inp = tf.keras.layers.Input((256, 256, 3))\n",
    "enc = encoder_model(inp)\n",
    "concat = tf.keras.layers.Concatenate()([enc[0], enc[1]])\n",
    "x = tf.keras.layers.Dense(64, activation=\"relu\")(concat)\n",
    "x = tf.keras.layers.Dense(64, activation=\"relu\")(x)\n",
    "x = tf.keras.layers.Dense(64, activation=\"relu\")(x)\n",
    "out1 = tf.keras.layers.Dense(8, activation=\"sigmoid\")(x)\n",
    "out2 = tf.keras.layers.Dense(33, activation=\"sigmoid\")(x)\n",
    "mod2 = tf.keras.Model(inp, [out1, out2], name=\"abc\")"
   ],
   "metadata": {
    "collapsed": false
   }
  },
  {
   "cell_type": "code",
   "execution_count": 240,
   "outputs": [],
   "source": [
    "mod2.compile(\n",
    "    optimizer=\"adam\",\n",
    "    loss=[tf.keras.losses.BinaryCrossentropy(from_logits=False), tf.keras.losses.BinaryCrossentropy(from_logits=False)],\n",
    "    metrics=[\"accuracy\"],\n",
    ")"
   ],
   "metadata": {
    "collapsed": false
   }
  },
  {
   "cell_type": "code",
   "execution_count": 242,
   "outputs": [],
   "source": [
    "y_ds_train = tf.data.Dataset.zip(\n",
    "    (tf.data.Dataset.from_tensor_slices(bck_train), tf.data.Dataset.from_tensor_slices(mth_train))\n",
    ")\n",
    "x_ds_train = dataset.filter(lambda _, y: tf.math.reduce_any(y == train_ids)).map(select_x).batch(1)\n",
    "ds_train = tf.data.Dataset.zip((x_ds_train.unbatch(), y_ds_train)).batch(32)\n",
    "\n",
    "\n",
    "y_ds_val = tf.data.Dataset.zip(\n",
    "    (tf.data.Dataset.from_tensor_slices(bck_val), tf.data.Dataset.from_tensor_slices(mth_val))\n",
    ")\n",
    "x_ds_val = dataset.filter(lambda _, y: tf.math.reduce_any(y == validation_ids)).map(select_x).batch(1)\n",
    "ds_val = tf.data.Dataset.zip((x_ds_val.unbatch(), y_ds_val)).batch(32)"
   ],
   "metadata": {
    "collapsed": false
   }
  },
  {
   "cell_type": "code",
   "execution_count": 244,
   "outputs": [
    {
     "name": "stdout",
     "output_type": "stream",
     "text": [
      "Epoch 1/5\n"
     ]
    },
    {
     "name": "stderr",
     "output_type": "stream",
     "text": [
      "2023-05-19 18:26:16.090938: I tensorflow/core/common_runtime/executor.cc:1210] [/device:CPU:0] (DEBUG INFO) Executor start aborting (this does not indicate an error and you can ignore this message): INVALID_ARGUMENT: You must feed a value for placeholder tensor 'Placeholder/_24' with dtype bool and shape [7000,33]\n",
      "\t [[{{node Placeholder/_24}}]]\n",
      "2023-05-19 18:26:16.091353: I tensorflow/core/common_runtime/executor.cc:1210] [/device:CPU:0] (DEBUG INFO) Executor start aborting (this does not indicate an error and you can ignore this message): INVALID_ARGUMENT: You must feed a value for placeholder tensor 'Placeholder/_4' with dtype string and shape [10000]\n",
      "\t [[{{node Placeholder/_4}}]]\n"
     ]
    },
    {
     "name": "stdout",
     "output_type": "stream",
     "text": [
      "    219/Unknown - 31s 137ms/step - loss: 0.3857 - dense_87_loss: 0.2039 - dense_88_loss: 0.1818 - dense_87_accuracy: 0.7157 - dense_88_accuracy: 0.1931"
     ]
    },
    {
     "name": "stderr",
     "output_type": "stream",
     "text": [
      "2023-05-19 18:26:46.875719: I tensorflow/core/common_runtime/executor.cc:1210] [/device:CPU:0] (DEBUG INFO) Executor start aborting (this does not indicate an error and you can ignore this message): INVALID_ARGUMENT: You must feed a value for placeholder tensor 'Placeholder/_24' with dtype bool and shape [1500,33]\n",
      "\t [[{{node Placeholder/_24}}]]\n",
      "2023-05-19 18:26:46.876013: I tensorflow/core/common_runtime/executor.cc:1210] [/device:CPU:0] (DEBUG INFO) Executor start aborting (this does not indicate an error and you can ignore this message): INVALID_ARGUMENT: You must feed a value for placeholder tensor 'Placeholder/_0' with dtype string and shape [10000]\n",
      "\t [[{{node Placeholder/_0}}]]\n"
     ]
    },
    {
     "name": "stdout",
     "output_type": "stream",
     "text": [
      "219/219 [==============================] - 47s 212ms/step - loss: 0.3857 - dense_87_loss: 0.2039 - dense_88_loss: 0.1818 - dense_87_accuracy: 0.7157 - dense_88_accuracy: 0.1931 - val_loss: 0.1767 - val_dense_87_loss: 0.0519 - val_dense_88_loss: 0.1249 - val_dense_87_accuracy: 0.9700 - val_dense_88_accuracy: 0.2740\n",
      "Epoch 2/5\n",
      "219/219 [==============================] - 46s 208ms/step - loss: 0.1426 - dense_87_loss: 0.0323 - dense_88_loss: 0.1104 - dense_87_accuracy: 0.9747 - dense_88_accuracy: 0.3097 - val_loss: 0.1337 - val_dense_87_loss: 0.0226 - val_dense_88_loss: 0.1111 - val_dense_87_accuracy: 0.9993 - val_dense_88_accuracy: 0.3753\n",
      "Epoch 3/5\n",
      "219/219 [==============================] - 45s 207ms/step - loss: 0.1143 - dense_87_loss: 0.0160 - dense_88_loss: 0.0984 - dense_87_accuracy: 0.9859 - dense_88_accuracy: 0.3843 - val_loss: 0.1030 - val_dense_87_loss: 0.0080 - val_dense_88_loss: 0.0950 - val_dense_87_accuracy: 1.0000 - val_dense_88_accuracy: 0.4173\n",
      "Epoch 4/5\n",
      "219/219 [==============================] - 43s 198ms/step - loss: 0.0959 - dense_87_loss: 0.0071 - dense_88_loss: 0.0888 - dense_87_accuracy: 0.9943 - dense_88_accuracy: 0.4596 - val_loss: 0.0925 - val_dense_87_loss: 0.0122 - val_dense_88_loss: 0.0803 - val_dense_87_accuracy: 1.0000 - val_dense_88_accuracy: 0.5993\n",
      "Epoch 5/5\n",
      "219/219 [==============================] - 46s 208ms/step - loss: 0.0878 - dense_87_loss: 0.0057 - dense_88_loss: 0.0821 - dense_87_accuracy: 0.9951 - dense_88_accuracy: 0.5039 - val_loss: 0.0785 - val_dense_87_loss: 0.0042 - val_dense_88_loss: 0.0743 - val_dense_87_accuracy: 1.0000 - val_dense_88_accuracy: 0.6160\n"
     ]
    },
    {
     "data": {
      "text/plain": "<keras.src.callbacks.History at 0x28f13a410>"
     },
     "execution_count": 244,
     "metadata": {},
     "output_type": "execute_result"
    }
   ],
   "source": [
    "mod2.fit(ds_train, validation_data=ds_val, epochs=5, batch_size=None)"
   ],
   "metadata": {
    "collapsed": false
   }
  },
  {
   "cell_type": "code",
   "execution_count": 245,
   "outputs": [
    {
     "name": "stdout",
     "output_type": "stream",
     "text": [
      "Model: \"abc\"\n",
      "__________________________________________________________________________________________________\n",
      " Layer (type)                Output Shape                 Param #   Connected to                  \n",
      "==================================================================================================\n",
      " input_25 (InputLayer)       [(None, 256, 256, 3)]        0         []                            \n",
      "                                                                                                  \n",
      " encoder (Functional)        [(None, 256),                2201184   ['input_25[0][0]']            \n",
      "                              (None, 256),                                                        \n",
      "                              (None, 256)]                                                        \n",
      "                                                                                                  \n",
      " concatenate_14 (Concatenat  (None, 512)                  0         ['encoder[12][0]',            \n",
      " e)                                                                  'encoder[12][1]']            \n",
      "                                                                                                  \n",
      " dense_84 (Dense)            (None, 64)                   32832     ['concatenate_14[0][0]']      \n",
      "                                                                                                  \n",
      " dense_85 (Dense)            (None, 64)                   4160      ['dense_84[0][0]']            \n",
      "                                                                                                  \n",
      " dense_86 (Dense)            (None, 64)                   4160      ['dense_85[0][0]']            \n",
      "                                                                                                  \n",
      " dense_87 (Dense)            (None, 8)                    520       ['dense_86[0][0]']            \n",
      "                                                                                                  \n",
      " dense_88 (Dense)            (None, 33)                   2145      ['dense_86[0][0]']            \n",
      "                                                                                                  \n",
      "==================================================================================================\n",
      "Total params: 2245001 (8.56 MB)\n",
      "Trainable params: 43817 (171.16 KB)\n",
      "Non-trainable params: 2201184 (8.40 MB)\n",
      "__________________________________________________________________________________________________\n"
     ]
    }
   ],
   "source": [
    "mod2.summary()"
   ],
   "metadata": {
    "collapsed": false
   }
  },
  {
   "cell_type": "code",
   "execution_count": null,
   "outputs": [],
   "source": [],
   "metadata": {
    "collapsed": false
   }
  }
 ],
 "metadata": {
  "kernelspec": {
   "display_name": "Python 3",
   "language": "python",
   "name": "python3"
  },
  "language_info": {
   "codemirror_mode": {
    "name": "ipython",
    "version": 2
   },
   "file_extension": ".py",
   "mimetype": "text/x-python",
   "name": "python",
   "nbconvert_exporter": "python",
   "pygments_lexer": "ipython2",
   "version": "2.7.6"
  }
 },
 "nbformat": 4,
 "nbformat_minor": 0
}
