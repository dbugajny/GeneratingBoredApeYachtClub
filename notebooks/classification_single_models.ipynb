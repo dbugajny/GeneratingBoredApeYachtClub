{
 "cells": [
  {
   "cell_type": "code",
   "execution_count": null,
   "outputs": [],
   "source": [
    "import tensorflow as tf\n",
    "from models import classifier\n",
    "import pandas as pd\n",
    "import pathlib\n",
    "from hyperparameters import *\n",
    "from constants import *\n",
    "from utils import data_loading\n",
    "import numpy as np\n",
    "import matplotlib.pyplot as plt\n",
    "from sklearn.metrics import confusion_matrix\n",
    "import seaborn as sns"
   ],
   "metadata": {
    "collapsed": false
   }
  },
  {
   "cell_type": "code",
   "execution_count": null,
   "outputs": [],
   "source": [
    "apes_info = pd.read_csv(APES_INFO_FILEPATH)\n",
    "all_images_ids, train_ids, validation_ids, test_ids = data_loading.get_image_ids(apes_info, pathlib.Path(DATA_FILEPATH))"
   ],
   "metadata": {
    "collapsed": false
   }
  },
  {
   "cell_type": "code",
   "execution_count": null,
   "outputs": [],
   "source": [
    "dataset = data_loading.load_full_dataset(DATA_FILEPATH, IMAGE_SIZE, all_images_ids)"
   ],
   "metadata": {
    "collapsed": false
   }
  },
  {
   "cell_type": "code",
   "execution_count": null,
   "outputs": [],
   "source": [
    "x_train = data_loading.load_specific_dataset(dataset, train_ids, None)\n",
    "x_validation = data_loading.load_specific_dataset(dataset, validation_ids, None)\n",
    "x_test = data_loading.load_specific_dataset(dataset, test_ids, None)"
   ],
   "metadata": {
    "collapsed": false
   }
  },
  {
   "cell_type": "code",
   "execution_count": null,
   "outputs": [],
   "source": [
    "_, _, _, feature_value_names = data_loading.get_feature_dataset_y(apes_info, FEATURE_NAMES)"
   ],
   "metadata": {
    "collapsed": false
   }
  },
  {
   "cell_type": "code",
   "execution_count": null,
   "outputs": [],
   "source": [
    "train_dataset_mouth, validation_dataset_mouth, test_dataset_mouth = data_loading.prepare_feature_dataset(\n",
    "    apes_info, \"Mouth\", x_train, x_validation, x_test, BATCH_SIZE\n",
    ")\n",
    "train_dataset_background, validation_dataset_background, test_dataset_background = data_loading.prepare_feature_dataset(\n",
    "    apes_info, \"Background\", x_train, x_validation, x_test, BATCH_SIZE\n",
    ")\n",
    "train_dataset_hat, validation_dataset_hat, test_dataset_hat = data_loading.prepare_feature_dataset(\n",
    "    apes_info, \"Hat\", x_train, x_validation, x_test, BATCH_SIZE\n",
    ")\n",
    "train_dataset_eyes, validation_dataset_eyes, test_dataset_eyes = data_loading.prepare_feature_dataset(\n",
    "    apes_info, \"Eyes\", x_train, x_validation, x_test, BATCH_SIZE\n",
    ")\n",
    "train_dataset_clothes, validation_dataset_clothes, test_dataset_clothes = data_loading.prepare_feature_dataset(\n",
    "    apes_info, \"Clothes\", x_train, x_validation, x_test, BATCH_SIZE\n",
    ")\n",
    "train_dataset_fur, validation_dataset_fur, test_dataset_fur = data_loading.prepare_feature_dataset(\n",
    "    apes_info, \"Fur\", x_train, x_validation, x_test, BATCH_SIZE\n",
    ")\n",
    "train_dataset_earring, validation_dataset_earring, test_dataset_earring = data_loading.prepare_feature_dataset(\n",
    "    apes_info, \"Earring\", x_train, x_validation, x_test, BATCH_SIZE\n",
    ")"
   ],
   "metadata": {
    "collapsed": false
   }
  },
  {
   "cell_type": "code",
   "execution_count": null,
   "outputs": [],
   "source": [
    "compile_classification_model_hyperparameters = {\n",
    "    \"optimizer\": tf.keras.optimizers.legacy.Adam(),\n",
    "    \"loss\": [tf.keras.losses.BinaryCrossentropy(from_logits=False)],\n",
    "    \"metrics\": [\"accuracy\"],\n",
    "}"
   ],
   "metadata": {
    "collapsed": false
   }
  },
  {
   "cell_type": "code",
   "execution_count": null,
   "outputs": [],
   "source": [
    "mouth_classification_model = classifier.build_single_label_classifier(**MOUTH_CLASSIFICATION_MODEL_HYPERPARAMETERS)\n",
    "mouth_classification_model.compile(**compile_classification_model_hyperparameters)\n",
    "mouth_csv_logger = tf.keras.callbacks.CSVLogger(HISTORY_MOUTH_CLASSIFIER_FILEPATH, append=False)"
   ],
   "metadata": {
    "collapsed": false
   }
  },
  {
   "cell_type": "code",
   "execution_count": null,
   "outputs": [],
   "source": [
    "mouth_classification_model.fit(\n",
    "    train_dataset_mouth.repeat(STEPS_PER_EPOCH * 17),\n",
    "    steps_per_epoch=STEPS_PER_EPOCH,\n",
    "    epochs=17,\n",
    "    batch_size=None,\n",
    "    validation_data=validation_dataset_mouth,\n",
    "    callbacks=[mouth_csv_logger],\n",
    ")\n",
    "mouth_classification_model.save_weights(MODEL_MOUTH_CLASSIFIER_FILEPATH)"
   ],
   "metadata": {
    "collapsed": false
   }
  },
  {
   "cell_type": "code",
   "execution_count": null,
   "outputs": [],
   "source": [
    "background_classification_model = classifier.build_single_label_classifier(\n",
    "    **BACKGROUND_CLASSIFICATION_MODEL_HYPERPARAMETERS\n",
    ")\n",
    "background_classification_model.compile(**compile_classification_model_hyperparameters)\n",
    "background_csv_logger = tf.keras.callbacks.CSVLogger(HISTORY_BACKGROUND_CLASSIFIER_FILEPATH, append=False)"
   ],
   "metadata": {
    "collapsed": false
   }
  },
  {
   "cell_type": "code",
   "execution_count": null,
   "outputs": [],
   "source": [
    "background_classification_model.fit(\n",
    "    train_dataset_background.repeat(STEPS_PER_EPOCH * 6),\n",
    "    steps_per_epoch=STEPS_PER_EPOCH,\n",
    "    epochs=6,\n",
    "    batch_size=None,\n",
    "    validation_data=validation_dataset_background,\n",
    "    callbacks=[background_csv_logger],\n",
    ")\n",
    "background_classification_model.save_weights(MODEL_BACKGROUND_CLASSIFIER_FILEPATH)"
   ],
   "metadata": {
    "collapsed": false
   }
  },
  {
   "cell_type": "code",
   "execution_count": null,
   "outputs": [],
   "source": [
    "hat_classification_model = classifier.build_single_label_classifier(**HAT_CLASSIFICATION_MODEL_HYPERPARAMETERS)\n",
    "hat_classification_model.compile(**compile_classification_model_hyperparameters)\n",
    "hat_csv_logger = tf.keras.callbacks.CSVLogger(HISTORY_HAT_CLASSIFIER_FILEPATH, append=False)"
   ],
   "metadata": {
    "collapsed": false
   }
  },
  {
   "cell_type": "code",
   "execution_count": null,
   "outputs": [],
   "source": [
    "hat_classification_model.fit(\n",
    "    train_dataset_hat.repeat(STEPS_PER_EPOCH * 15),\n",
    "    steps_per_epoch=STEPS_PER_EPOCH,\n",
    "    epochs=15,\n",
    "    batch_size=None,\n",
    "    validation_data=validation_dataset_hat,\n",
    "    callbacks=[hat_csv_logger],\n",
    ")\n",
    "hat_classification_model.save_weights(MODEL_HAT_CLASSIFIER_FILEPATH)"
   ],
   "metadata": {
    "collapsed": false
   }
  },
  {
   "cell_type": "code",
   "execution_count": null,
   "outputs": [],
   "source": [
    "eyes_classification_model = classifier.build_single_label_classifier(**EYES_CLASSIFICATION_MODEL_HYPERPARAMETERS)\n",
    "eyes_classification_model.compile(**compile_classification_model_hyperparameters)\n",
    "eyes_csv_logger = tf.keras.callbacks.CSVLogger(HISTORY_EYES_CLASSIFIER_FILEPATH, append=False)"
   ],
   "metadata": {
    "collapsed": false
   }
  },
  {
   "cell_type": "code",
   "execution_count": null,
   "outputs": [],
   "source": [
    "eyes_classification_model.fit(\n",
    "    train_dataset_eyes.repeat(STEPS_PER_EPOCH * 10),\n",
    "    steps_per_epoch=STEPS_PER_EPOCH,\n",
    "    epochs=10,\n",
    "    batch_size=None,\n",
    "    validation_data=validation_dataset_eyes,\n",
    "    callbacks=[eyes_csv_logger],\n",
    ")\n",
    "eyes_classification_model.save_weights(MODEL_EYES_CLASSIFIER_FILEPATH)"
   ],
   "metadata": {
    "collapsed": false
   }
  },
  {
   "cell_type": "code",
   "execution_count": null,
   "outputs": [],
   "source": [
    "clothes_classification_model = classifier.build_single_label_classifier(**CLOTHES_CLASSIFICATION_MODEL_HYPERPARAMETERS)\n",
    "clothes_classification_model.compile(**compile_classification_model_hyperparameters)\n",
    "clothes_csv_logger = tf.keras.callbacks.CSVLogger(HISTORY_CLOTHES_CLASSIFIER_FILEPATH, append=False)"
   ],
   "metadata": {
    "collapsed": false
   }
  },
  {
   "cell_type": "code",
   "execution_count": null,
   "outputs": [],
   "source": [
    "clothes_classification_model.fit(\n",
    "    train_dataset_clothes.repeat(STEPS_PER_EPOCH * 13),\n",
    "    steps_per_epoch=STEPS_PER_EPOCH,\n",
    "    epochs=13,\n",
    "    batch_size=None,\n",
    "    validation_data=validation_dataset_clothes,\n",
    "    callbacks=[clothes_csv_logger],\n",
    ")\n",
    "clothes_classification_model.save_weights(MODEL_CLOTHES_CLASSIFIER_FILEPATH)"
   ],
   "metadata": {
    "collapsed": false
   }
  },
  {
   "cell_type": "code",
   "execution_count": null,
   "outputs": [],
   "source": [
    "fur_classification_model = classifier.build_single_label_classifier(**FUR_CLASSIFICATION_MODEL_HYPERPARAMETERS)\n",
    "fur_classification_model.compile(**compile_classification_model_hyperparameters)\n",
    "fur_csv_logger = tf.keras.callbacks.CSVLogger(HISTORY_FUR_CLASSIFIER_FILEPATH, append=False)"
   ],
   "metadata": {
    "collapsed": false
   }
  },
  {
   "cell_type": "code",
   "execution_count": null,
   "outputs": [],
   "source": [
    "fur_classification_model.fit(\n",
    "    train_dataset_fur.repeat(STEPS_PER_EPOCH * 12),\n",
    "    steps_per_epoch=STEPS_PER_EPOCH,\n",
    "    epochs=12,\n",
    "    batch_size=None,\n",
    "    validation_data=validation_dataset_fur,\n",
    "    callbacks=[fur_csv_logger],\n",
    ")\n",
    "fur_classification_model.save_weights(MODEL_FUR_CLASSIFIER_FILEPATH)"
   ],
   "metadata": {
    "collapsed": false
   }
  },
  {
   "cell_type": "code",
   "execution_count": null,
   "outputs": [],
   "source": [
    "earring_classification_model = classifier.build_single_label_classifier(**EARRING_CLASSIFICATION_MODEL_HYPERPARAMETERS)\n",
    "earring_classification_model.compile(**compile_classification_model_hyperparameters)\n",
    "earring_csv_logger = tf.keras.callbacks.CSVLogger(HISTORY_EARRING_CLASSIFIER_FILEPATH, append=False)"
   ],
   "metadata": {
    "collapsed": false
   }
  },
  {
   "cell_type": "code",
   "execution_count": null,
   "outputs": [],
   "source": [
    "earring_classification_model.fit(\n",
    "    train_dataset_earring.repeat(STEPS_PER_EPOCH * 10),\n",
    "    steps_per_epoch=STEPS_PER_EPOCH,\n",
    "    epochs=10,\n",
    "    batch_size=None,\n",
    "    validation_data=validation_dataset_earring,\n",
    "    callbacks=[earring_csv_logger],\n",
    ")\n",
    "earring_classification_model.save_weights(MODEL_EARRING_CLASSIFIER_FILEPATH)"
   ],
   "metadata": {
    "collapsed": false
   }
  },
  {
   "cell_type": "code",
   "execution_count": null,
   "outputs": [],
   "source": [
    "histories_classifiers_training = [\n",
    "    pd.read_csv(HISTORY_MOUTH_CLASSIFIER_FILEPATH),\n",
    "    pd.read_csv(HISTORY_BACKGROUND_CLASSIFIER_FILEPATH),\n",
    "    pd.read_csv(HISTORY_HAT_CLASSIFIER_FILEPATH),\n",
    "    pd.read_csv(HISTORY_EYES_CLASSIFIER_FILEPATH),\n",
    "    pd.read_csv(HISTORY_CLOTHES_CLASSIFIER_FILEPATH),\n",
    "    pd.read_csv(HISTORY_FUR_CLASSIFIER_FILEPATH),\n",
    "    pd.read_csv(HISTORY_EARRING_CLASSIFIER_FILEPATH),\n",
    "]\n",
    "\n",
    "plt.figure(figsize=(10, len(FEATURE_NAMES) * 3))\n",
    "\n",
    "for i, feature_name in enumerate(FEATURE_NAMES):\n",
    "    plt.subplot(len(FEATURE_NAMES), 2, i * 2 + 1)\n",
    "    plt.plot(histories_classifiers_training[i][\"accuracy\"])\n",
    "    plt.plot(histories_classifiers_training[i][f\"val_accuracy\"])\n",
    "    plt.title(feature_name)\n",
    "    plt.ylim([-0.02, 1.02])\n",
    "    plt.ylabel(\"accuracy\")\n",
    "    plt.xlabel(\"epoch\")\n",
    "    plt.legend([\"train\", \"val\"], loc=\"upper left\")\n",
    "\n",
    "    plt.subplot(len(FEATURE_NAMES), 2, i * 2 + 2)\n",
    "    plt.plot(histories_classifiers_training[i][\"loss\"])\n",
    "    plt.plot(histories_classifiers_training[i][\"val_loss\"])\n",
    "    plt.title(feature_name)\n",
    "    plt.ylabel(\"loss\")\n",
    "    plt.xlabel(\"epoch\")\n",
    "    plt.legend([\"train\", \"val\"], loc=\"upper left\")\n",
    "\n",
    "plt.tight_layout()\n",
    "plt.show()"
   ],
   "metadata": {
    "collapsed": false
   }
  },
  {
   "cell_type": "code",
   "execution_count": null,
   "outputs": [],
   "source": [
    "models = [\n",
    "    mouth_classification_model,\n",
    "    background_classification_model,\n",
    "    hat_classification_model,\n",
    "    eyes_classification_model,\n",
    "    clothes_classification_model,\n",
    "    fur_classification_model,\n",
    "    earring_classification_model,\n",
    "]\n",
    "\n",
    "model_filepaths = [\n",
    "    MODEL_MOUTH_CLASSIFIER_FILEPATH,\n",
    "    MODEL_BACKGROUND_CLASSIFIER_FILEPATH,\n",
    "    MODEL_HAT_CLASSIFIER_FILEPATH,\n",
    "    MODEL_EYES_CLASSIFIER_FILEPATH,\n",
    "    MODEL_CLOTHES_CLASSIFIER_FILEPATH,\n",
    "    MODEL_FUR_CLASSIFIER_FILEPATH,\n",
    "    MODEL_EARRING_CLASSIFIER_FILEPATH,\n",
    "]\n",
    "test_datasets = [\n",
    "    test_dataset_mouth,\n",
    "    test_dataset_background,\n",
    "    test_dataset_hat,\n",
    "    test_dataset_eyes,\n",
    "    test_dataset_clothes,\n",
    "    test_dataset_fur,\n",
    "    test_dataset_earring,\n",
    "]"
   ],
   "metadata": {
    "collapsed": false
   }
  },
  {
   "cell_type": "code",
   "execution_count": null,
   "outputs": [],
   "source": [
    "def make_predictions(model, model_filepath, test_dataset):\n",
    "    model.load_weights(model_filepath)\n",
    "\n",
    "    return (\n",
    "        model.predict(test_dataset.unbatch().batch(1)),\n",
    "        list(test_dataset.unbatch().batch(1).map(lambda x, y: y)),\n",
    "    )\n",
    "\n",
    "\n",
    "y_test_predictions = []\n",
    "y_test_true = []\n",
    "\n",
    "for mod, mod_fp, t_ds in zip(models, model_filepaths, test_datasets):\n",
    "    y_predictions, y_true = make_predictions(mod, mod_fp, t_ds)\n",
    "    y_test_predictions.append(y_predictions)\n",
    "    y_test_true.append(y_true)"
   ],
   "metadata": {
    "collapsed": false
   }
  },
  {
   "cell_type": "code",
   "execution_count": null,
   "outputs": [],
   "source": [
    "plt.figure(figsize=(15, len(FEATURE_NAMES) * 10))\n",
    "\n",
    "for i, feature_name in enumerate(FEATURE_NAMES):\n",
    "    cfm = confusion_matrix([np.argmax(x) for x in y_test_true[i]], [np.argmax(x) for x in y_test_predictions[i]])\n",
    "    df_cfm = pd.DataFrame(cfm, index=feature_value_names[feature_name], columns=feature_value_names[feature_name])\n",
    "\n",
    "    plt.subplot(len(FEATURE_NAMES), 1, i + 1)\n",
    "    sns.heatmap(df_cfm, annot=True, fmt=\".0f\")\n",
    "    plt.title(feature_name)\n",
    "    plt.xlabel(\"Predicted\", fontsize=15)\n",
    "    plt.ylabel(\"Actual\", fontsize=15)\n",
    "\n",
    "plt.tight_layout()\n",
    "plt.show()"
   ],
   "metadata": {
    "collapsed": false
   }
  }
 ],
 "metadata": {
  "kernelspec": {
   "display_name": "Python 3",
   "language": "python",
   "name": "python3"
  },
  "language_info": {
   "codemirror_mode": {
    "name": "ipython",
    "version": 2
   },
   "file_extension": ".py",
   "mimetype": "text/x-python",
   "name": "python",
   "nbconvert_exporter": "python",
   "pygments_lexer": "ipython2",
   "version": "2.7.6"
  }
 },
 "nbformat": 4,
 "nbformat_minor": 0
}
