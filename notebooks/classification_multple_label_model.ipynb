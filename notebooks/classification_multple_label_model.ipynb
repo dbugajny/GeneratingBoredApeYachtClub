{
 "cells": [
  {
   "cell_type": "code",
   "execution_count": null,
   "outputs": [],
   "source": [
    "import tensorflow as tf\n",
    "from models import decoder, encoder, vae, classifier\n",
    "import pandas as pd\n",
    "import pathlib\n",
    "from constants import *\n",
    "from hyperparameters import *\n",
    "from utils import data_loading\n",
    "import numpy as np\n",
    "import matplotlib.pyplot as plt\n",
    "from sklearn.metrics import confusion_matrix\n",
    "import seaborn as sns"
   ],
   "metadata": {
    "collapsed": false
   }
  },
  {
   "cell_type": "code",
   "execution_count": null,
   "outputs": [],
   "source": [
    "apes_info = pd.read_csv(APES_INFO_FILEPATH)\n",
    "all_images_ids, train_ids, validation_ids, test_ids = data_loading.get_image_ids(apes_info, pathlib.Path(DATA_FILEPATH))"
   ],
   "metadata": {
    "collapsed": false
   }
  },
  {
   "cell_type": "code",
   "execution_count": null,
   "outputs": [],
   "source": [
    "dataset = data_loading.load_full_dataset(DATA_FILEPATH, IMAGE_SIZE, all_images_ids)\n",
    "\n",
    "y_train, y_validation, y_test, feature_value_names = data_loading.get_feature_dataset_y(apes_info, FEATURE_NAMES)"
   ],
   "metadata": {
    "collapsed": false
   }
  },
  {
   "cell_type": "code",
   "execution_count": null,
   "outputs": [],
   "source": [
    "x_train = data_loading.load_specific_dataset(dataset, train_ids, None)\n",
    "train_dataset = tf.data.Dataset.zip((x_train, y_train)).batch(BATCH_SIZE)\n",
    "\n",
    "x_validation = data_loading.load_specific_dataset(dataset, validation_ids, None)\n",
    "validation_dataset = tf.data.Dataset.zip((x_validation, y_validation)).batch(BATCH_SIZE)\n",
    "\n",
    "x_test = data_loading.load_specific_dataset(dataset, test_ids, None)\n",
    "test_dataset = tf.data.Dataset.zip((x_test, y_test)).batch(BATCH_SIZE)"
   ],
   "metadata": {
    "collapsed": false
   }
  },
  {
   "cell_type": "code",
   "execution_count": null,
   "outputs": [],
   "source": [
    "encoder_model = encoder.build_encoder(**ENCODER_MODEL_HYPERPARAMETERS)\n",
    "decoder_model = decoder.build_decoder(**DECODER_MODEL_HYPERPARAMETERS)\n",
    "\n",
    "vae_model = vae.VAE(encoder_model, decoder_model, RECONSTRUCTION_LOSS_WEIGHT, KL_LOSS_WEIGHT)\n",
    "vae_model.load_weights(MODEL_VAE_FILEPATH)\n",
    "\n",
    "MULTI_LABEL_CLASSIFICATION_MODEL_HYPERPARAMETERS = {\n",
    "    \"dense_block_units\": [512, 1024, 1024],\n",
    "    \"dense_block_dropout_rates\": [0.15, 0.15, 0.15],\n",
    "}\n",
    "\n",
    "classifier_model = classifier.build_multilabel_classifier(\n",
    "    encoder_model=encoder_model,\n",
    "    n_unique_features=N_UNIQUE_FEATURES,\n",
    "    feature_names=FEATURE_NAMES,\n",
    "    **MULTI_LABEL_CLASSIFICATION_MODEL_HYPERPARAMETERS,\n",
    ")\n",
    "\n",
    "classifier_model.compile(\n",
    "    optimizer=tf.keras.optimizers.legacy.Adam(),\n",
    "    loss=[tf.keras.losses.BinaryCrossentropy(from_logits=False)] * len(FEATURE_NAMES),\n",
    "    metrics=[\"accuracy\"],\n",
    ")"
   ],
   "metadata": {
    "collapsed": false
   }
  },
  {
   "cell_type": "code",
   "execution_count": null,
   "outputs": [],
   "source": [
    "csv_logger = tf.keras.callbacks.CSVLogger(HISTORY_MULTIPLE_LABEL_CLASSIFIER_FILEPATH, append=False)\n",
    "\n",
    "epochs = 70\n",
    "classifier_model.fit(\n",
    "    train_dataset.repeat(STEPS_PER_EPOCH * epochs),\n",
    "    steps_per_epoch=STEPS_PER_EPOCH,\n",
    "    epochs=epochs,\n",
    "    batch_size=None,\n",
    "    validation_data=validation_dataset,\n",
    "    callbacks=[csv_logger],\n",
    ")\n",
    "\n",
    "classifier_model.save_weights(MODEL_MULTIPLE_LABEL_CLASSIFIER_FILEPATH)"
   ],
   "metadata": {
    "collapsed": false
   }
  },
  {
   "cell_type": "code",
   "execution_count": null,
   "outputs": [],
   "source": [
    "history_classifier_training = pd.read_csv(HISTORY_MULTIPLE_LABEL_CLASSIFIER_FILEPATH)\n",
    "\n",
    "\n",
    "plt.figure(figsize=(10, len(FEATURE_NAMES) * 3))\n",
    "\n",
    "for i, feature_name in enumerate(FEATURE_NAMES):\n",
    "    plt.subplot(len(FEATURE_NAMES), 2, i * 2 + 1)\n",
    "    plt.plot(history_classifier_training[f\"{feature_name}_accuracy\"])\n",
    "    plt.plot(history_classifier_training[f\"val_{feature_name}_accuracy\"])\n",
    "    plt.title(feature_name)\n",
    "    plt.ylim([-0.02, 1.02])\n",
    "    plt.ylabel(\"accuracy\")\n",
    "    plt.xlabel(\"epoch\")\n",
    "    plt.legend([\"train\", \"val\"], loc=\"upper left\")\n",
    "\n",
    "    plt.subplot(len(FEATURE_NAMES), 2, i * 2 + 2)\n",
    "    plt.plot(history_classifier_training[f\"{feature_name}_loss\"])\n",
    "    plt.plot(history_classifier_training[f\"val_{feature_name}_loss\"])\n",
    "    plt.title(feature_name)\n",
    "    plt.ylabel(\"loss\")\n",
    "    plt.xlabel(\"epoch\")\n",
    "    plt.legend([\"train\", \"val\"], loc=\"upper left\")\n",
    "\n",
    "plt.tight_layout()\n",
    "plt.show()"
   ],
   "metadata": {
    "collapsed": false
   }
  },
  {
   "cell_type": "code",
   "execution_count": null,
   "outputs": [],
   "source": [
    "history_classifier_training = pd.read_csv(HISTORY_MULTIPLE_LABEL_CLASSIFIER_FILEPATH)"
   ],
   "metadata": {
    "collapsed": false
   }
  },
  {
   "cell_type": "code",
   "execution_count": null,
   "outputs": [],
   "source": [
    "classifier_model.load_weights(MODEL_MULTIPLE_LABEL_CLASSIFIER_FILEPATH)\n",
    "y_test_predictions = classifier_model.predict(test_dataset)\n",
    "y_test_true = list(y_test)"
   ],
   "metadata": {
    "collapsed": false
   }
  },
  {
   "cell_type": "code",
   "execution_count": null,
   "outputs": [],
   "source": [
    "plt.figure(figsize=(15, len(FEATURE_NAMES) * 10))\n",
    "\n",
    "for i, feature_name in enumerate(FEATURE_NAMES):\n",
    "    cfm = confusion_matrix(np.argmax([x[i] for x in y_test_true], axis=1), np.argmax(y_test_predictions[i], axis=1))\n",
    "    df_cfm = pd.DataFrame(cfm, index=feature_value_names[feature_name], columns=feature_value_names[feature_name])\n",
    "\n",
    "    plt.subplot(len(FEATURE_NAMES), 1, i + 1)\n",
    "    sns.heatmap(df_cfm, annot=True, fmt=\".0f\")\n",
    "    plt.title(feature_name)\n",
    "    plt.xlabel(\"Predicted\", fontsize=15)\n",
    "    plt.ylabel(\"Actual\", fontsize=15)\n",
    "\n",
    "plt.tight_layout()\n",
    "plt.show()"
   ],
   "metadata": {
    "collapsed": false
   }
  },
  {
   "cell_type": "code",
   "execution_count": null,
   "outputs": [],
   "source": [],
   "metadata": {
    "collapsed": false
   }
  }
 ],
 "metadata": {
  "kernelspec": {
   "display_name": "Python 3",
   "language": "python",
   "name": "python3"
  },
  "language_info": {
   "codemirror_mode": {
    "name": "ipython",
    "version": 2
   },
   "file_extension": ".py",
   "mimetype": "text/x-python",
   "name": "python",
   "nbconvert_exporter": "python",
   "pygments_lexer": "ipython2",
   "version": "2.7.6"
  }
 },
 "nbformat": 4,
 "nbformat_minor": 0
}
