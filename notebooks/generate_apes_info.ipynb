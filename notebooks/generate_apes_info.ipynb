{
 "cells": [
  {
   "cell_type": "code",
   "execution_count": 1,
   "metadata": {
    "collapsed": true
   },
   "outputs": [],
   "source": [
    "import json\n",
    "import pandas as pd"
   ]
  },
  {
   "cell_type": "code",
   "execution_count": 116,
   "outputs": [],
   "source": [
    "with open(\"data/db\") as file:\n",
    "    db = file.readlines()\n",
    "\n",
    "db = [json.loads(line.removesuffix(\"\\n\")) for line in db]"
   ],
   "metadata": {
    "collapsed": false
   }
  },
  {
   "cell_type": "code",
   "execution_count": 117,
   "outputs": [],
   "source": [
    "def convert_row(row):\n",
    "    return {elem[\"trait_type\"]: elem[\"value\"] for elem in row}"
   ],
   "metadata": {
    "collapsed": false
   }
  },
  {
   "cell_type": "code",
   "execution_count": 118,
   "outputs": [],
   "source": [
    "df_db = pd.DataFrame.from_dict(db)\n",
    "df_exploded = pd.concat([df_db, df_db[\"metadata\"].apply(pd.Series)], axis=1)"
   ],
   "metadata": {
    "collapsed": false
   }
  },
  {
   "cell_type": "code",
   "execution_count": 119,
   "outputs": [],
   "source": [
    "attributes = df_exploded[\"attributes\"].apply(convert_row)\n",
    "attributes = pd.DataFrame.from_dict(attributes.tolist())"
   ],
   "metadata": {
    "collapsed": false
   }
  },
  {
   "cell_type": "code",
   "execution_count": 120,
   "outputs": [],
   "source": [
    "df_final = pd.concat([df_exploded, attributes], axis=1)\n",
    "df_final[\"image\"] = df_final[\"image\"].str.removeprefix(\"ipfs://\")\n",
    "df_final = df_final.loc[:, ['image',  'Mouth', 'Background', 'Hat', 'Eyes',\n",
    "       'Clothes', 'Fur', 'Earring']]"
   ],
   "metadata": {
    "collapsed": false
   }
  },
  {
   "cell_type": "code",
   "execution_count": 121,
   "outputs": [],
   "source": [
    "df_final.to_csv(\"apes_info.csv\", index=False)"
   ],
   "metadata": {
    "collapsed": false
   }
  },
  {
   "cell_type": "code",
   "execution_count": 124,
   "outputs": [
    {
     "data": {
      "text/plain": "33"
     },
     "execution_count": 124,
     "metadata": {},
     "output_type": "execute_result"
    }
   ],
   "source": [
    "df_final[\"Mouth\"].nunique()"
   ],
   "metadata": {
    "collapsed": false
   }
  },
  {
   "cell_type": "code",
   "execution_count": 131,
   "outputs": [
    {
     "data": {
      "text/plain": "Fur\nBrown           1370\nDark Brown      1352\nBlack           1229\nGolden Brown     778\nCream            636\nTan              626\nPink             511\nGray             496\nBlue             490\nRed              474\nCheetah          406\nWhite            397\nZombie           302\nRobot            265\nDmt              215\nDeath Bot        175\nNoise            155\nTrippy            77\nSolid Gold        46\nName: count, dtype: int64"
     },
     "execution_count": 131,
     "metadata": {},
     "output_type": "execute_result"
    }
   ],
   "source": [
    "df_final[\"Fur\"].value_counts()"
   ],
   "metadata": {
    "collapsed": false
   }
  },
  {
   "cell_type": "code",
   "execution_count": 125,
   "outputs": [
    {
     "data": {
      "text/plain": "(8, 36, 23)"
     },
     "execution_count": 125,
     "metadata": {},
     "output_type": "execute_result"
    }
   ],
   "source": [
    "df_final[\"Background\"].nunique(), df_final[\"Hat\"].nunique(), df_final[\"Eyes\"].nunique()"
   ],
   "metadata": {
    "collapsed": false
   }
  },
  {
   "cell_type": "code",
   "execution_count": 126,
   "outputs": [
    {
     "data": {
      "text/plain": "(43, 19, 6)"
     },
     "execution_count": 126,
     "metadata": {},
     "output_type": "execute_result"
    }
   ],
   "source": [
    "df_final[\"Clothes\"].nunique(), df_final[\"Fur\"].nunique(), df_final[\"Earring\"].nunique()"
   ],
   "metadata": {
    "collapsed": false
   }
  },
  {
   "cell_type": "code",
   "execution_count": null,
   "outputs": [],
   "source": [],
   "metadata": {
    "collapsed": false
   }
  }
 ],
 "metadata": {
  "kernelspec": {
   "display_name": "Python 3",
   "language": "python",
   "name": "python3"
  },
  "language_info": {
   "codemirror_mode": {
    "name": "ipython",
    "version": 2
   },
   "file_extension": ".py",
   "mimetype": "text/x-python",
   "name": "python",
   "nbconvert_exporter": "python",
   "pygments_lexer": "ipython2",
   "version": "2.7.6"
  }
 },
 "nbformat": 4,
 "nbformat_minor": 0
}
