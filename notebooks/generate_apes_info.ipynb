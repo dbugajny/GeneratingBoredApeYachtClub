{
 "cells": [
  {
   "cell_type": "code",
   "execution_count": 69,
   "metadata": {
    "collapsed": true
   },
   "outputs": [],
   "source": [
    "import json\n",
    "import pandas as pd\n",
    "from sklearn.model_selection import train_test_split"
   ]
  },
  {
   "cell_type": "code",
   "execution_count": 70,
   "outputs": [],
   "source": [
    "with open(\"../data/others/db\") as file:\n",
    "    db = file.readlines()\n",
    "\n",
    "db = [json.loads(line.removesuffix(\"\\n\")) for line in db]"
   ],
   "metadata": {
    "collapsed": false
   }
  },
  {
   "cell_type": "code",
   "execution_count": 71,
   "outputs": [],
   "source": [
    "df_db = pd.DataFrame.from_dict(db)\n",
    "df_exploded = pd.concat([df_db, df_db[\"metadata\"].apply(pd.Series)], axis=1)"
   ],
   "metadata": {
    "collapsed": false
   }
  },
  {
   "cell_type": "code",
   "execution_count": 72,
   "outputs": [],
   "source": [
    "def convert_row(row):\n",
    "    return {elem[\"trait_type\"]: elem[\"value\"] for elem in row}\n",
    "\n",
    "\n",
    "attributes = df_exploded[\"attributes\"].apply(convert_row)\n",
    "attributes = pd.DataFrame.from_dict(attributes.tolist())"
   ],
   "metadata": {
    "collapsed": false
   }
  },
  {
   "cell_type": "code",
   "execution_count": 73,
   "outputs": [],
   "source": [
    "df_final = pd.concat([df_exploded, attributes], axis=1)\n",
    "df_final[\"image\"] = df_final[\"image\"].str.removeprefix(\"ipfs://\")\n",
    "df_final = df_final.loc[:, [\"image\", \"Mouth\", \"Background\", \"Hat\", \"Eyes\", \"Clothes\", \"Fur\", \"Earring\"]]\n",
    "df_final = df_final.fillna(\"Null\")"
   ],
   "metadata": {
    "collapsed": false
   }
  },
  {
   "cell_type": "code",
   "execution_count": 74,
   "outputs": [],
   "source": [
    "train_ids, rest_ids = train_test_split(df_final[\"image\"], test_size=0.3, random_state=42)\n",
    "validation_ids, test_ids = train_test_split(rest_ids, test_size=0.5, random_state=42)"
   ],
   "metadata": {
    "collapsed": false
   }
  },
  {
   "cell_type": "code",
   "execution_count": 75,
   "outputs": [],
   "source": [
    "df_final.loc[df_final[\"image\"].isin(train_ids), \"dataset\"] = \"train\"\n",
    "df_final.loc[df_final[\"image\"].isin(validation_ids), \"dataset\"] = \"validation\"\n",
    "df_final.loc[df_final[\"image\"].isin(test_ids), \"dataset\"] = \"test\""
   ],
   "metadata": {
    "collapsed": false
   }
  },
  {
   "cell_type": "code",
   "execution_count": 77,
   "outputs": [],
   "source": [
    "df_final.to_csv(\"../data/others/apes_info.csv\", index=False)"
   ],
   "metadata": {
    "collapsed": false
   }
  },
  {
   "cell_type": "code",
   "execution_count": null,
   "outputs": [],
   "source": [],
   "metadata": {
    "collapsed": false
   }
  }
 ],
 "metadata": {
  "kernelspec": {
   "display_name": "Python 3",
   "language": "python",
   "name": "python3"
  },
  "language_info": {
   "codemirror_mode": {
    "name": "ipython",
    "version": 2
   },
   "file_extension": ".py",
   "mimetype": "text/x-python",
   "name": "python",
   "nbconvert_exporter": "python",
   "pygments_lexer": "ipython2",
   "version": "2.7.6"
  }
 },
 "nbformat": 4,
 "nbformat_minor": 0
}
