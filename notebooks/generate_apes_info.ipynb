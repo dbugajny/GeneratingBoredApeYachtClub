{
 "cells": [
  {
   "cell_type": "code",
   "execution_count": 1,
   "metadata": {
    "collapsed": true
   },
   "outputs": [],
   "source": [
    "import json\n",
    "import pandas as pd"
   ]
  },
  {
   "cell_type": "code",
   "execution_count": 116,
   "outputs": [],
   "source": [
    "with open(\"data/others/db\") as file:\n",
    "    db = file.readlines()\n",
    "\n",
    "db = [json.loads(line.removesuffix(\"\\n\")) for line in db]"
   ],
   "metadata": {
    "collapsed": false
   }
  },
  {
   "cell_type": "code",
   "execution_count": 118,
   "outputs": [],
   "source": [
    "df_db = pd.DataFrame.from_dict(db)\n",
    "df_exploded = pd.concat([df_db, df_db[\"metadata\"].apply(pd.Series)], axis=1)"
   ],
   "metadata": {
    "collapsed": false
   }
  },
  {
   "cell_type": "code",
   "execution_count": 119,
   "outputs": [],
   "source": [
    "def convert_row(row):\n",
    "    return {elem[\"trait_type\"]: elem[\"value\"] for elem in row}\n",
    "\n",
    "\n",
    "attributes = df_exploded[\"attributes\"].apply(convert_row)\n",
    "attributes = pd.DataFrame.from_dict(attributes.tolist())"
   ],
   "metadata": {
    "collapsed": false
   }
  },
  {
   "cell_type": "code",
   "execution_count": 120,
   "outputs": [],
   "source": [
    "df_final = pd.concat([df_exploded, attributes], axis=1)\n",
    "df_final[\"image\"] = df_final[\"image\"].str.removeprefix(\"ipfs://\")\n",
    "df_final = df_final.loc[:, [\"image\", \"Mouth\", \"Background\", \"Hat\", \"Eyes\", \"Clothes\", \"Fur\", \"Earring\"]]"
   ],
   "metadata": {
    "collapsed": false
   }
  },
  {
   "cell_type": "code",
   "execution_count": 121,
   "outputs": [],
   "source": [
    "df_final.to_csv(\"data/others/apes_info.csv\", index=False)"
   ],
   "metadata": {
    "collapsed": false
   }
  },
  {
   "cell_type": "code",
   "execution_count": null,
   "outputs": [],
   "source": [],
   "metadata": {
    "collapsed": false
   }
  }
 ],
 "metadata": {
  "kernelspec": {
   "display_name": "Python 3",
   "language": "python",
   "name": "python3"
  },
  "language_info": {
   "codemirror_mode": {
    "name": "ipython",
    "version": 2
   },
   "file_extension": ".py",
   "mimetype": "text/x-python",
   "name": "python",
   "nbconvert_exporter": "python",
   "pygments_lexer": "ipython2",
   "version": "2.7.6"
  }
 },
 "nbformat": 4,
 "nbformat_minor": 0
}
