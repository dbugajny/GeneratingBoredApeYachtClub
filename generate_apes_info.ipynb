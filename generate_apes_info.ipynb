{
 "cells": [
  {
   "cell_type": "code",
   "execution_count": 1,
   "metadata": {
    "collapsed": true
   },
   "outputs": [],
   "source": [
    "import json\n",
    "import pandas as pd"
   ]
  },
  {
   "cell_type": "code",
   "execution_count": 116,
   "outputs": [],
   "source": [
    "with open(\"data/db\") as file:\n",
    "    db = file.readlines()\n",
    "\n",
    "db = [json.loads(line.removesuffix(\"\\n\")) for line in db]"
   ],
   "metadata": {
    "collapsed": false
   }
  },
  {
   "cell_type": "code",
   "execution_count": 117,
   "outputs": [],
   "source": [
    "def convert_row(row):\n",
    "    return {elem[\"trait_type\"]: elem[\"value\"] for elem in row}"
   ],
   "metadata": {
    "collapsed": false
   }
  },
  {
   "cell_type": "code",
   "execution_count": 118,
   "outputs": [],
   "source": [
    "df_db = pd.DataFrame.from_dict(db)\n",
    "df_exploded = pd.concat([df_db, df_db[\"metadata\"].apply(pd.Series)], axis=1)"
   ],
   "metadata": {
    "collapsed": false
   }
  },
  {
   "cell_type": "code",
   "execution_count": 119,
   "outputs": [],
   "source": [
    "attributes = df_exploded[\"attributes\"].apply(convert_row)\n",
    "attributes = pd.DataFrame.from_dict(attributes.tolist())"
   ],
   "metadata": {
    "collapsed": false
   }
  },
  {
   "cell_type": "code",
   "execution_count": 120,
   "outputs": [],
   "source": [
    "df_final = pd.concat([df_exploded, attributes], axis=1)\n",
    "df_final[\"image\"] = df_final[\"image\"].str.removeprefix(\"ipfs://\")\n",
    "df_final = df_final.loc[:, ['image',  'Mouth', 'Background', 'Hat', 'Eyes',\n",
    "       'Clothes', 'Fur', 'Earring']]"
   ],
   "metadata": {
    "collapsed": false
   }
  },
  {
   "cell_type": "code",
   "execution_count": 121,
   "outputs": [],
   "source": [
    "df_final.to_csv(\"apes_info.csv\", index=False)"
   ],
   "metadata": {
    "collapsed": false
   }
  },
  {
   "cell_type": "code",
   "execution_count": 123,
   "outputs": [
    {
     "data": {
      "text/plain": "                                               image        Mouth  Background   \n0     QmYsWYyQL2rTykTb8a9erJ6cSRRLqpC1sk3NE7n6SbgAaJ        Bored  Aquamarine  \\\n1     QmRs8jziLABbm1G1Gii295Sc8fWKfPwASdEBiDMV3pPCnh         Grin  Army Green   \n2     QmZmvr294dpQNU64LJvR6sUu8P2i413BUR22ckZrK47AfB  Dumbfounded        Blue   \n3     QmecLeKNn17YNnQEZYKpzsRPrJb4SwXy35ZqqSJtW1TNk3         Grin      Purple   \n4     QmRzwqsNr1bZR4QVckki3udJoPFjrZ9YZn31BRqig68Mdn   Bored Pipe        Blue   \n...                                              ...          ...         ...   \n9995  QmZjiNfV2asRZFfH3q66CSkb2FLBy3vpFi9mHUAiReWGNG  Phoneme Wah      Purple   \n9996  QmVBhBgPBrnMMGTUdVsAwRRrTtJf8ZhG4Hs3a2Wj33SvN8        Bored  Army Green   \n9997  QmduGvsE5H1Ej3nqdytP5pbXsbU1gN6qq7dXVxSsC29T9x        Bored        Gray   \n9998  QmVaDuuoKzhJMVdaNxHkTETZRrN1riWMK1ZKTtnoqejJVQ   Tongue Out        Blue   \n9999  QmbuP5vagFaRjADBWoZwcf8rVWsa5a5wjJQeR6JN9EKR2u  Phoneme Wah  Army Green   \n\n                           Hat        Eyes          Clothes           Fur   \n0            Girl's Hair Short     Scumbag       Biker Vest         Black  \\\n1                          NaN         Sad    Black Holes T         Cream   \n2                Baby's Bonnet      Sleepy     Caveman Pelt  Golden Brown   \n3                        Horns  Hypnotized              NaN    Dark Brown   \n4              Fisherman's Hat   Wide Eyed        Work Vest  Golden Brown   \n...                        ...         ...              ...           ...   \n9995                       NaN   Bloodshot              NaN         Black   \n9996                   S&m Hat       Bored  Wool Turtleneck    Dark Brown   \n9997                       NaN   Bloodshot       Prom Dress         Brown   \n9998  Police Motorcycle Helmet       Bored       Puffy Vest  Golden Brown   \n9999                Bunny Ears     Scumbag       Blue Dress  Golden Brown   \n\n          Earring  \n0             NaN  \n1     Silver Stud  \n2     Silver Hoop  \n3             NaN  \n4             NaN  \n...           ...  \n9995          NaN  \n9996          NaN  \n9997          NaN  \n9998          NaN  \n9999  Silver Hoop  \n\n[10000 rows x 8 columns]",
      "text/html": "<div>\n<style scoped>\n    .dataframe tbody tr th:only-of-type {\n        vertical-align: middle;\n    }\n\n    .dataframe tbody tr th {\n        vertical-align: top;\n    }\n\n    .dataframe thead th {\n        text-align: right;\n    }\n</style>\n<table border=\"1\" class=\"dataframe\">\n  <thead>\n    <tr style=\"text-align: right;\">\n      <th></th>\n      <th>image</th>\n      <th>Mouth</th>\n      <th>Background</th>\n      <th>Hat</th>\n      <th>Eyes</th>\n      <th>Clothes</th>\n      <th>Fur</th>\n      <th>Earring</th>\n    </tr>\n  </thead>\n  <tbody>\n    <tr>\n      <th>0</th>\n      <td>QmYsWYyQL2rTykTb8a9erJ6cSRRLqpC1sk3NE7n6SbgAaJ</td>\n      <td>Bored</td>\n      <td>Aquamarine</td>\n      <td>Girl's Hair Short</td>\n      <td>Scumbag</td>\n      <td>Biker Vest</td>\n      <td>Black</td>\n      <td>NaN</td>\n    </tr>\n    <tr>\n      <th>1</th>\n      <td>QmRs8jziLABbm1G1Gii295Sc8fWKfPwASdEBiDMV3pPCnh</td>\n      <td>Grin</td>\n      <td>Army Green</td>\n      <td>NaN</td>\n      <td>Sad</td>\n      <td>Black Holes T</td>\n      <td>Cream</td>\n      <td>Silver Stud</td>\n    </tr>\n    <tr>\n      <th>2</th>\n      <td>QmZmvr294dpQNU64LJvR6sUu8P2i413BUR22ckZrK47AfB</td>\n      <td>Dumbfounded</td>\n      <td>Blue</td>\n      <td>Baby's Bonnet</td>\n      <td>Sleepy</td>\n      <td>Caveman Pelt</td>\n      <td>Golden Brown</td>\n      <td>Silver Hoop</td>\n    </tr>\n    <tr>\n      <th>3</th>\n      <td>QmecLeKNn17YNnQEZYKpzsRPrJb4SwXy35ZqqSJtW1TNk3</td>\n      <td>Grin</td>\n      <td>Purple</td>\n      <td>Horns</td>\n      <td>Hypnotized</td>\n      <td>NaN</td>\n      <td>Dark Brown</td>\n      <td>NaN</td>\n    </tr>\n    <tr>\n      <th>4</th>\n      <td>QmRzwqsNr1bZR4QVckki3udJoPFjrZ9YZn31BRqig68Mdn</td>\n      <td>Bored Pipe</td>\n      <td>Blue</td>\n      <td>Fisherman's Hat</td>\n      <td>Wide Eyed</td>\n      <td>Work Vest</td>\n      <td>Golden Brown</td>\n      <td>NaN</td>\n    </tr>\n    <tr>\n      <th>...</th>\n      <td>...</td>\n      <td>...</td>\n      <td>...</td>\n      <td>...</td>\n      <td>...</td>\n      <td>...</td>\n      <td>...</td>\n      <td>...</td>\n    </tr>\n    <tr>\n      <th>9995</th>\n      <td>QmZjiNfV2asRZFfH3q66CSkb2FLBy3vpFi9mHUAiReWGNG</td>\n      <td>Phoneme Wah</td>\n      <td>Purple</td>\n      <td>NaN</td>\n      <td>Bloodshot</td>\n      <td>NaN</td>\n      <td>Black</td>\n      <td>NaN</td>\n    </tr>\n    <tr>\n      <th>9996</th>\n      <td>QmVBhBgPBrnMMGTUdVsAwRRrTtJf8ZhG4Hs3a2Wj33SvN8</td>\n      <td>Bored</td>\n      <td>Army Green</td>\n      <td>S&amp;m Hat</td>\n      <td>Bored</td>\n      <td>Wool Turtleneck</td>\n      <td>Dark Brown</td>\n      <td>NaN</td>\n    </tr>\n    <tr>\n      <th>9997</th>\n      <td>QmduGvsE5H1Ej3nqdytP5pbXsbU1gN6qq7dXVxSsC29T9x</td>\n      <td>Bored</td>\n      <td>Gray</td>\n      <td>NaN</td>\n      <td>Bloodshot</td>\n      <td>Prom Dress</td>\n      <td>Brown</td>\n      <td>NaN</td>\n    </tr>\n    <tr>\n      <th>9998</th>\n      <td>QmVaDuuoKzhJMVdaNxHkTETZRrN1riWMK1ZKTtnoqejJVQ</td>\n      <td>Tongue Out</td>\n      <td>Blue</td>\n      <td>Police Motorcycle Helmet</td>\n      <td>Bored</td>\n      <td>Puffy Vest</td>\n      <td>Golden Brown</td>\n      <td>NaN</td>\n    </tr>\n    <tr>\n      <th>9999</th>\n      <td>QmbuP5vagFaRjADBWoZwcf8rVWsa5a5wjJQeR6JN9EKR2u</td>\n      <td>Phoneme Wah</td>\n      <td>Army Green</td>\n      <td>Bunny Ears</td>\n      <td>Scumbag</td>\n      <td>Blue Dress</td>\n      <td>Golden Brown</td>\n      <td>Silver Hoop</td>\n    </tr>\n  </tbody>\n</table>\n<p>10000 rows × 8 columns</p>\n</div>"
     },
     "execution_count": 123,
     "metadata": {},
     "output_type": "execute_result"
    }
   ],
   "source": [
    "df_final"
   ],
   "metadata": {
    "collapsed": false
   }
  },
  {
   "cell_type": "code",
   "execution_count": null,
   "outputs": [],
   "source": [],
   "metadata": {
    "collapsed": false
   }
  }
 ],
 "metadata": {
  "kernelspec": {
   "display_name": "Python 3",
   "language": "python",
   "name": "python3"
  },
  "language_info": {
   "codemirror_mode": {
    "name": "ipython",
    "version": 2
   },
   "file_extension": ".py",
   "mimetype": "text/x-python",
   "name": "python",
   "nbconvert_exporter": "python",
   "pygments_lexer": "ipython2",
   "version": "2.7.6"
  }
 },
 "nbformat": 4,
 "nbformat_minor": 0
}
